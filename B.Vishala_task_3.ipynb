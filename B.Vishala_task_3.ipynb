{
  "nbformat": 4,
  "nbformat_minor": 0,
  "metadata": {
    "colab": {
      "provenance": []
    },
    "kernelspec": {
      "name": "python3",
      "display_name": "Python 3"
    },
    "language_info": {
      "name": "python"
    }
  },
  "cells": [
    {
      "cell_type": "code",
      "execution_count": 1,
      "metadata": {
        "id": "0Nyi5uNVtFp5"
      },
      "outputs": [],
      "source": [
        "import random"
      ]
    },
    {
      "cell_type": "code",
      "source": [
        "text = \"\"\"\n",
        "AI is transforming the world in incredible ways.\n",
        "Machine learning and artificial intelligence are revolutionizing industries,\n",
        "enhancing productivity, and shaping the future of technology.\n",
        "\"\"\"\n"
      ],
      "metadata": {
        "id": "tYPJM1p9tPxT"
      },
      "execution_count": 7,
      "outputs": []
    },
    {
      "cell_type": "code",
      "source": [
        "words = text.split()"
      ],
      "metadata": {
        "id": "YoXuiMqqtmDP"
      },
      "execution_count": 8,
      "outputs": []
    },
    {
      "cell_type": "code",
      "source": [
        "markov_chain = {}\n",
        "\n",
        "for i in range(len(words) - 1):\n",
        "    current_word = words[i]\n",
        "    next_word = words[i + 1]\n",
        "\n",
        "    if current_word not in markov_chain:\n",
        "        markov_chain[current_word] = []\n",
        "    markov_chain[current_word].append(next_word)"
      ],
      "metadata": {
        "id": "xk0lk639t0FR"
      },
      "execution_count": 9,
      "outputs": []
    },
    {
      "cell_type": "code",
      "source": [
        "def generate_text(chain, num_words=20):\n",
        "    # Pick a random starting word\n",
        "    current_word = random.choice(list(chain.keys()))\n",
        "    output = [current_word]\n",
        "\n",
        "    for _ in range(num_words - 1):\n",
        "        next_words = chain.get(current_word, None)\n",
        "        if not next_words:\n",
        "            break\n",
        "        next_word = random.choice(next_words)\n",
        "        output.append(next_word)\n",
        "        current_word = next_word\n",
        "\n",
        "    return ' '.join(output)"
      ],
      "metadata": {
        "id": "rbfSZuakt3R_"
      },
      "execution_count": 10,
      "outputs": []
    },
    {
      "cell_type": "code",
      "source": [
        "generated_text = generate_text(markov_chain, num_words=30)\n",
        "print(\"Generated Text:\\n\", generated_text)"
      ],
      "metadata": {
        "colab": {
          "base_uri": "https://localhost:8080/"
        },
        "id": "KLXBWbY3t6X4",
        "outputId": "54a458bd-0079-464f-8b76-ef279adb2786"
      },
      "execution_count": 11,
      "outputs": [
        {
          "output_type": "stream",
          "name": "stdout",
          "text": [
            "Generated Text:\n",
            " artificial intelligence are revolutionizing industries, enhancing productivity, and artificial intelligence are revolutionizing industries, enhancing productivity, and artificial intelligence are revolutionizing industries, enhancing productivity, and shaping the world in incredible ways.\n"
          ]
        }
      ]
    },
    {
      "cell_type": "code",
      "source": [],
      "metadata": {
        "id": "FCGJkl3St-XU"
      },
      "execution_count": null,
      "outputs": []
    }
  ]
}